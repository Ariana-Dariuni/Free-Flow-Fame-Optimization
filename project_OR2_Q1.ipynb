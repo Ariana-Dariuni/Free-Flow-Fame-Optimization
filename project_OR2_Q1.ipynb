{
  "nbformat": 4,
  "nbformat_minor": 0,
  "metadata": {
    "colab": {
      "provenance": []
    },
    "kernelspec": {
      "name": "python3",
      "display_name": "Python 3"
    },
    "language_info": {
      "name": "python"
    }
  },
  "cells": [
    {
      "cell_type": "code",
      "source": [
        "!pip install -q pyomo"
      ],
      "metadata": {
        "id": "i7d8RtnwcyTp",
        "colab": {
          "base_uri": "https://localhost:8080/"
        },
        "outputId": "5b0b836a-07a7-4673-aeab-85767f0e8039"
      },
      "execution_count": null,
      "outputs": [
        {
          "output_type": "stream",
          "name": "stdout",
          "text": [
            "\u001b[2K   \u001b[90m━━━━━━━━━━━━━━━━━━━━━━━━━━━━━━━━━━━━━━━━\u001b[0m \u001b[32m13.3/13.3 MB\u001b[0m \u001b[31m25.2 MB/s\u001b[0m eta \u001b[36m0:00:00\u001b[0m\n",
            "\u001b[2K   \u001b[90m━━━━━━━━━━━━━━━━━━━━━━━━━━━━━━━━━━━━━━━━\u001b[0m \u001b[32m49.6/49.6 kB\u001b[0m \u001b[31m2.5 MB/s\u001b[0m eta \u001b[36m0:00:00\u001b[0m\n",
            "\u001b[?25h"
          ]
        }
      ]
    },
    {
      "cell_type": "code",
      "source": [
        "!apt-get install -y -qq glpk-utils\n",
        "!apt-get install -y -qq coinor-cbc  # Install CBC\n",
        "!conda install -c conda-forge pyomo coincbc\n"
      ],
      "metadata": {
        "colab": {
          "base_uri": "https://localhost:8080/"
        },
        "id": "CGoaOkh1yCKn",
        "outputId": "f23278b9-cda8-4cd2-93ff-4bbda1910782"
      },
      "execution_count": null,
      "outputs": [
        {
          "output_type": "stream",
          "name": "stdout",
          "text": [
            "Selecting previously unselected package libsuitesparseconfig5:amd64.\n",
            "(Reading database ... 123623 files and directories currently installed.)\n",
            "Preparing to unpack .../libsuitesparseconfig5_1%3a5.10.1+dfsg-4build1_amd64.deb ...\n",
            "Unpacking libsuitesparseconfig5:amd64 (1:5.10.1+dfsg-4build1) ...\n",
            "Selecting previously unselected package libamd2:amd64.\n",
            "Preparing to unpack .../libamd2_1%3a5.10.1+dfsg-4build1_amd64.deb ...\n",
            "Unpacking libamd2:amd64 (1:5.10.1+dfsg-4build1) ...\n",
            "Selecting previously unselected package libcolamd2:amd64.\n",
            "Preparing to unpack .../libcolamd2_1%3a5.10.1+dfsg-4build1_amd64.deb ...\n",
            "Unpacking libcolamd2:amd64 (1:5.10.1+dfsg-4build1) ...\n",
            "Selecting previously unselected package libglpk40:amd64.\n",
            "Preparing to unpack .../libglpk40_5.0-1_amd64.deb ...\n",
            "Unpacking libglpk40:amd64 (5.0-1) ...\n",
            "Selecting previously unselected package glpk-utils.\n",
            "Preparing to unpack .../glpk-utils_5.0-1_amd64.deb ...\n",
            "Unpacking glpk-utils (5.0-1) ...\n",
            "Setting up libsuitesparseconfig5:amd64 (1:5.10.1+dfsg-4build1) ...\n",
            "Setting up libamd2:amd64 (1:5.10.1+dfsg-4build1) ...\n",
            "Setting up libcolamd2:amd64 (1:5.10.1+dfsg-4build1) ...\n",
            "Setting up libglpk40:amd64 (5.0-1) ...\n",
            "Setting up glpk-utils (5.0-1) ...\n",
            "Processing triggers for man-db (2.10.2-1) ...\n",
            "Processing triggers for libc-bin (2.35-0ubuntu3.4) ...\n",
            "/sbin/ldconfig.real: /usr/local/lib/libtbbbind_2_0.so.3 is not a symbolic link\n",
            "\n",
            "/sbin/ldconfig.real: /usr/local/lib/libtcm_debug.so.1 is not a symbolic link\n",
            "\n",
            "/sbin/ldconfig.real: /usr/local/lib/libtbbbind.so.3 is not a symbolic link\n",
            "\n",
            "/sbin/ldconfig.real: /usr/local/lib/libtbb.so.12 is not a symbolic link\n",
            "\n",
            "/sbin/ldconfig.real: /usr/local/lib/libtbbbind_2_5.so.3 is not a symbolic link\n",
            "\n",
            "/sbin/ldconfig.real: /usr/local/lib/libtcm.so.1 is not a symbolic link\n",
            "\n",
            "/sbin/ldconfig.real: /usr/local/lib/libur_loader.so.0 is not a symbolic link\n",
            "\n",
            "/sbin/ldconfig.real: /usr/local/lib/libhwloc.so.15 is not a symbolic link\n",
            "\n",
            "/sbin/ldconfig.real: /usr/local/lib/libur_adapter_opencl.so.0 is not a symbolic link\n",
            "\n",
            "/sbin/ldconfig.real: /usr/local/lib/libtbbmalloc.so.2 is not a symbolic link\n",
            "\n",
            "/sbin/ldconfig.real: /usr/local/lib/libur_adapter_level_zero.so.0 is not a symbolic link\n",
            "\n",
            "/sbin/ldconfig.real: /usr/local/lib/libumf.so.0 is not a symbolic link\n",
            "\n",
            "/sbin/ldconfig.real: /usr/local/lib/libtbbmalloc_proxy.so.2 is not a symbolic link\n",
            "\n",
            "Selecting previously unselected package coinor-libcoinutils3v5:amd64.\n",
            "(Reading database ... 123826 files and directories currently installed.)\n",
            "Preparing to unpack .../0-coinor-libcoinutils3v5_2.11.4+repack1-2_amd64.deb ...\n",
            "Unpacking coinor-libcoinutils3v5:amd64 (2.11.4+repack1-2) ...\n",
            "Selecting previously unselected package coinor-libosi1v5:amd64.\n",
            "Preparing to unpack .../1-coinor-libosi1v5_0.108.6+repack1-2_amd64.deb ...\n",
            "Unpacking coinor-libosi1v5:amd64 (0.108.6+repack1-2) ...\n",
            "Selecting previously unselected package coinor-libclp1.\n",
            "Preparing to unpack .../2-coinor-libclp1_1.17.5+repack1-1_amd64.deb ...\n",
            "Unpacking coinor-libclp1 (1.17.5+repack1-1) ...\n",
            "Selecting previously unselected package coinor-libcgl1:amd64.\n",
            "Preparing to unpack .../3-coinor-libcgl1_0.60.3+repack1-3_amd64.deb ...\n",
            "Unpacking coinor-libcgl1:amd64 (0.60.3+repack1-3) ...\n",
            "Selecting previously unselected package coinor-libcbc3:amd64.\n",
            "Preparing to unpack .../4-coinor-libcbc3_2.10.7+ds1-1_amd64.deb ...\n",
            "Unpacking coinor-libcbc3:amd64 (2.10.7+ds1-1) ...\n",
            "Selecting previously unselected package coinor-cbc.\n",
            "Preparing to unpack .../5-coinor-cbc_2.10.7+ds1-1_amd64.deb ...\n",
            "Unpacking coinor-cbc (2.10.7+ds1-1) ...\n",
            "Setting up coinor-libcoinutils3v5:amd64 (2.11.4+repack1-2) ...\n",
            "Setting up coinor-libosi1v5:amd64 (0.108.6+repack1-2) ...\n",
            "Setting up coinor-libclp1 (1.17.5+repack1-1) ...\n",
            "Setting up coinor-libcgl1:amd64 (0.60.3+repack1-3) ...\n",
            "Setting up coinor-libcbc3:amd64 (2.10.7+ds1-1) ...\n",
            "Setting up coinor-cbc (2.10.7+ds1-1) ...\n",
            "Processing triggers for man-db (2.10.2-1) ...\n",
            "Processing triggers for libc-bin (2.35-0ubuntu3.4) ...\n",
            "/sbin/ldconfig.real: /usr/local/lib/libtbbbind_2_0.so.3 is not a symbolic link\n",
            "\n",
            "/sbin/ldconfig.real: /usr/local/lib/libtcm_debug.so.1 is not a symbolic link\n",
            "\n",
            "/sbin/ldconfig.real: /usr/local/lib/libtbbbind.so.3 is not a symbolic link\n",
            "\n",
            "/sbin/ldconfig.real: /usr/local/lib/libtbb.so.12 is not a symbolic link\n",
            "\n",
            "/sbin/ldconfig.real: /usr/local/lib/libtbbbind_2_5.so.3 is not a symbolic link\n",
            "\n",
            "/sbin/ldconfig.real: /usr/local/lib/libtcm.so.1 is not a symbolic link\n",
            "\n",
            "/sbin/ldconfig.real: /usr/local/lib/libur_loader.so.0 is not a symbolic link\n",
            "\n",
            "/sbin/ldconfig.real: /usr/local/lib/libhwloc.so.15 is not a symbolic link\n",
            "\n",
            "/sbin/ldconfig.real: /usr/local/lib/libur_adapter_opencl.so.0 is not a symbolic link\n",
            "\n",
            "/sbin/ldconfig.real: /usr/local/lib/libtbbmalloc.so.2 is not a symbolic link\n",
            "\n",
            "/sbin/ldconfig.real: /usr/local/lib/libur_adapter_level_zero.so.0 is not a symbolic link\n",
            "\n",
            "/sbin/ldconfig.real: /usr/local/lib/libumf.so.0 is not a symbolic link\n",
            "\n",
            "/sbin/ldconfig.real: /usr/local/lib/libtbbmalloc_proxy.so.2 is not a symbolic link\n",
            "\n",
            "/bin/bash: line 1: conda: command not found\n"
          ]
        }
      ]
    },
    {
      "cell_type": "code",
      "execution_count": null,
      "metadata": {
        "id": "SduDRkQAa9O3"
      },
      "outputs": [],
      "source": []
    },
    {
      "cell_type": "code",
      "source": [
        "from pyomo.environ import ConcreteModel, Var, Constraint, Binary, SolverFactory, ConstraintList, Objective, maximize\n",
        "\n",
        "# Parameters\n",
        "m = 9  # number of rows in the grid\n",
        "n = 9  # number of columns in the grid\n",
        "colors = ['gray', 'aqua', 'yellow', 'royalblue', 'purple', 'deeppink']  # list of available colors\n",
        "\n",
        "# Create a model\n",
        "model = ConcreteModel()\n",
        "\n",
        "# Define sets for rows, columns, and colors\n",
        "model.rows = range(m)\n",
        "model.cols = range(n)\n",
        "model.colors = colors\n",
        "\n",
        "# Define binary variables X_ijc: 1 if cell (i, j) is colored with color c, else 0\n",
        "model.X = Var(model.rows, model.cols, model.colors, domain=Binary)\n",
        "\n",
        "\n",
        "# Fix some variables as required (for example, set cell (1,2) to \"red\")\n",
        "root_cells = {\n",
        "    (4, 1): 'gray', (1, 2): 'gray',\n",
        "    (4, 3): 'yellow', (7, 7): 'yellow',\n",
        "    (2, 2): 'aqua', (6, 1): 'aqua',\n",
        "    (7, 1): 'purple', (4, 4): 'purple',\n",
        "    (3, 4): 'royalblue', (7, 3): 'royalblue',\n",
        "    (6, 4): 'deeppink', (3, 5): 'deeppink'\n",
        "}  # specify cells and their fixed colors\n",
        "\n",
        "for (i, j), color in root_cells.items():\n",
        "    model.X[i, j, color].fix(1)  # Fix the specified color to 1 for the given cell\n",
        "    for other_color in colors:\n",
        "        if other_color != color:\n",
        "            model.X[i, j, other_color].fix(0)\n",
        "\n",
        "# Fixing borders\n",
        "for i in range(m):\n",
        "    for color in colors:\n",
        "        model.X[i, 0, color].fix(0)\n",
        "        model.X[i, n - 1, color].fix(0)\n",
        "for i in range(n):\n",
        "    for color in colors:\n",
        "        model.X[0, i, color].fix(0)\n",
        "        model.X[m - 1, i, color].fix(0)\n",
        "\n",
        "# Coverage constraint: each cell (i, j) must have at last one color\n",
        "def coverage_constraint(model, i, j):\n",
        "    return sum(model.X[i, j, c] for c in model.colors) <= 1\n",
        "model.coverage_constraints = Constraint(model.rows, model.cols, rule=coverage_constraint)\n",
        "\n",
        "# Neighbor constraint for root cells\n",
        "def root_cells_neighbor_constraint(model, i, j, c):\n",
        "    constraints = []\n",
        "    if i > 0:        # cell (i-1, j) exists\n",
        "        constraints.append(model.X[i - 1, j, c])\n",
        "    if i < m - 1:    # cell (i+1, j) exists\n",
        "        constraints.append(model.X[i + 1, j, c])\n",
        "    if j > 0:        # cell (i, j-1) exists\n",
        "        constraints.append(model.X[i, j - 1, c])\n",
        "    if j < n - 1:    # cell (i, j+1) exists\n",
        "        constraints.append(model.X[i, j + 1, c])\n",
        "\n",
        "    # Ensure that exactly one neighboring cell has the same color\n",
        "    return sum(constraints) == 1\n",
        "\n",
        "# Add the neighbor constraint for each root cell's color\n",
        "model.root_cells_neighbor_constraints = ConstraintList()\n",
        "for (i, j), color in root_cells.items():\n",
        "    model.root_cells_neighbor_constraints.add(root_cells_neighbor_constraint(model, i, j, color))\n",
        "\n",
        "\n",
        "model.all_cells_neighbor_constraints = ConstraintList()\n",
        "\n",
        "def add_all_cells_neighbor_constraint(model, i, j, c):\n",
        "    neighbors = []\n",
        "    if i > 0:        # cell (i-1, j) exists\n",
        "        neighbors.append(model.X[i - 1, j, c])\n",
        "    if i < m - 1:    # cell (i+1, j) exists\n",
        "        neighbors.append(model.X[i + 1, j, c])\n",
        "    if j > 0:        # cell (i, j-1) exists\n",
        "        neighbors.append(model.X[i, j - 1, c])\n",
        "    if j < n - 1:    # cell (i, j+1) exists\n",
        "        neighbors.append(model.X[i, j + 1, c])\n",
        "\n",
        "    # Upper bound constraint\n",
        "    model.all_cells_neighbor_constraints.add(sum(neighbors) <= 2 + 2 - 2 * model.X[i, j, c])\n",
        "\n",
        "    # Lower bound constraint\n",
        "    model.all_cells_neighbor_constraints.add(sum(neighbors) >= 2 - 2 + 2 * model.X[i, j, c])\n",
        "\n",
        "# Add the neighbor constraints for each cell and color\n",
        "for i in model.rows:\n",
        "    for j in model.cols:\n",
        "        if (i, j) not in root_cells:\n",
        "            for c in model.colors:\n",
        "                add_all_cells_neighbor_constraint(model, i, j, c)\n",
        "\n",
        "\n",
        "model.objective = Objective(expr=sum(model.X[i, j, c] for i in model.rows for j in model.cols for c in model.colors), sense=maximize)\n",
        "\n",
        "# Solve the model\n",
        "solver = SolverFactory('glpk')  # Change to your solver of choice\n",
        "solver.solve(model)\n",
        "\n",
        "# Display the solution\n",
        "grid = {}\n",
        "print(\"Solution:\")\n",
        "for c in model.colors:\n",
        "    for i in model.rows:\n",
        "        for j in model.cols:\n",
        "            if model.X[i, j, c]() == 1:\n",
        "                grid[(i,j)] = c\n"
      ],
      "metadata": {
        "colab": {
          "base_uri": "https://localhost:8080/"
        },
        "id": "wa1A6LjNvfAp",
        "outputId": "c90e3775-0adb-4fe2-8b88-5a8e096bf3b5"
      },
      "execution_count": null,
      "outputs": [
        {
          "output_type": "stream",
          "name": "stdout",
          "text": [
            "Solution:\n"
          ]
        }
      ]
    },
    {
      "cell_type": "code",
      "source": [
        "import matplotlib.pyplot as plt\n",
        "import numpy as np\n",
        "from matplotlib import colors\n",
        "\n",
        "# Determine grid size based on the maximum row and column indices\n",
        "max_row = max(key[0] for key in grid)\n",
        "max_col = max(key[1] for key in grid)\n",
        "\n",
        "# Initialize a grid to hold the RGB colors\n",
        "color_grid = np.ones((max_row, max_col, 3))  # Initialize with white background (1,1,1)\n",
        "\n",
        "# Populate the color grid\n",
        "for (i, j), color in grid.items():\n",
        "    color_grid[i-1, j-1] = colors.to_rgb(color)  # Convert color name to RGB, offset for 0-indexing\n",
        "\n",
        "# Plot the grid\n",
        "fig, ax = plt.subplots()\n",
        "ax.imshow(color_grid, interpolation='none')\n",
        "\n",
        "# Customize grid lines\n",
        "ax.set_xticks(np.arange(-0.5, max_col, 1))\n",
        "ax.set_yticks(np.arange(-0.5, max_row, 1))\n",
        "ax.grid(which='both', color='black', linestyle='-', linewidth=2)\n",
        "ax.set_xticklabels([])\n",
        "ax.set_yticklabels([])\n",
        "\n",
        "plt.show()"
      ],
      "metadata": {
        "id": "Zb6dhL-6wnKw",
        "colab": {
          "base_uri": "https://localhost:8080/",
          "height": 411
        },
        "outputId": "4f49ce33-3dce-4826-e4b6-2148501e1c6d"
      },
      "execution_count": null,
      "outputs": [
        {
          "output_type": "display_data",
          "data": {
            "text/plain": [
              "<Figure size 640x480 with 1 Axes>"
            ],
            "image/png": "[encoded data removed]"
          },
          "metadata": {}
        }
      ]
    },
    {
      "cell_type": "code",
      "source": [],
      "metadata": {
        "id": "KpD-ySpU9WVZ"
      },
      "execution_count": null,
      "outputs": []
    }
  ]
}